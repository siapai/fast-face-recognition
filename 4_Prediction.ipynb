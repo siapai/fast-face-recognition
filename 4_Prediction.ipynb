{
 "cells": [
  {
   "cell_type": "code",
   "execution_count": 7,
   "id": "initial_id",
   "metadata": {
    "collapsed": true,
    "ExecuteTime": {
     "end_time": "2023-11-13T12:23:09.469851Z",
     "start_time": "2023-11-13T12:23:09.462005Z"
    }
   },
   "outputs": [],
   "source": [
    "import pandas as pd\n",
    "import numpy as np\n",
    "import cv2\n",
    "\n",
    "import face_rec"
   ]
  },
  {
   "cell_type": "code",
   "execution_count": 2,
   "outputs": [
    {
     "data": {
      "text/plain": "True"
     },
     "execution_count": 2,
     "metadata": {},
     "output_type": "execute_result"
    }
   ],
   "source": [
    "face_rec.r.ping()"
   ],
   "metadata": {
    "collapsed": false,
    "ExecuteTime": {
     "end_time": "2023-11-13T12:16:07.879379Z",
     "start_time": "2023-11-13T12:16:07.867293Z"
    }
   },
   "id": "ad2975563b96ef31"
  },
  {
   "cell_type": "markdown",
   "source": [
    "#### Step1: Extract Data from Redis"
   ],
   "metadata": {
    "collapsed": false
   },
   "id": "8270ed07919c14c9"
  },
  {
   "cell_type": "code",
   "execution_count": 11,
   "outputs": [
    {
     "data": {
      "text/plain": "                    name_role  \\\n0         Chris Evans@Student   \n1        Barack Obama@Teacher   \n2      Angelina Jolie@Student   \n3      Morgan Freeman@Teacher   \n4  Scarlett Johansson@Student   \n5                Momo@Teacher   \n\n                                     facial_features                Name  \\\n0  [0.72012275, -1.4683539, -0.77757514, -1.46026...         Chris Evans   \n1  [0.948603, -0.558349, 0.09484784, -1.2796344, ...        Barack Obama   \n2  [0.43222713, 1.074822, -0.12857957, -1.8332443...      Angelina Jolie   \n3  [0.4857939, -0.61931694, -0.4072946, 1.0686711...      Morgan Freeman   \n4  [0.1913062, -0.48871604, -1.6904205, 0.4424578...  Scarlett Johansson   \n5  [-0.3169872, -1.3053955, -0.7045331, -0.363322...                Momo   \n\n      Role  \n0  Student  \n1  Teacher  \n2  Student  \n3  Teacher  \n4  Student  \n5  Teacher  ",
      "text/html": "<div>\n<style scoped>\n    .dataframe tbody tr th:only-of-type {\n        vertical-align: middle;\n    }\n\n    .dataframe tbody tr th {\n        vertical-align: top;\n    }\n\n    .dataframe thead th {\n        text-align: right;\n    }\n</style>\n<table border=\"1\" class=\"dataframe\">\n  <thead>\n    <tr style=\"text-align: right;\">\n      <th></th>\n      <th>name_role</th>\n      <th>facial_features</th>\n      <th>Name</th>\n      <th>Role</th>\n    </tr>\n  </thead>\n  <tbody>\n    <tr>\n      <th>0</th>\n      <td>Chris Evans@Student</td>\n      <td>[0.72012275, -1.4683539, -0.77757514, -1.46026...</td>\n      <td>Chris Evans</td>\n      <td>Student</td>\n    </tr>\n    <tr>\n      <th>1</th>\n      <td>Barack Obama@Teacher</td>\n      <td>[0.948603, -0.558349, 0.09484784, -1.2796344, ...</td>\n      <td>Barack Obama</td>\n      <td>Teacher</td>\n    </tr>\n    <tr>\n      <th>2</th>\n      <td>Angelina Jolie@Student</td>\n      <td>[0.43222713, 1.074822, -0.12857957, -1.8332443...</td>\n      <td>Angelina Jolie</td>\n      <td>Student</td>\n    </tr>\n    <tr>\n      <th>3</th>\n      <td>Morgan Freeman@Teacher</td>\n      <td>[0.4857939, -0.61931694, -0.4072946, 1.0686711...</td>\n      <td>Morgan Freeman</td>\n      <td>Teacher</td>\n    </tr>\n    <tr>\n      <th>4</th>\n      <td>Scarlett Johansson@Student</td>\n      <td>[0.1913062, -0.48871604, -1.6904205, 0.4424578...</td>\n      <td>Scarlett Johansson</td>\n      <td>Student</td>\n    </tr>\n    <tr>\n      <th>5</th>\n      <td>Momo@Teacher</td>\n      <td>[-0.3169872, -1.3053955, -0.7045331, -0.363322...</td>\n      <td>Momo</td>\n      <td>Teacher</td>\n    </tr>\n  </tbody>\n</table>\n</div>"
     },
     "execution_count": 11,
     "metadata": {},
     "output_type": "execute_result"
    }
   ],
   "source": [
    "table = 'academy:register'\n",
    "retrieve_dict = face_rec.r.hgetall(table)\n",
    "retrieve_series = pd.Series(retrieve_dict)\n",
    "retrieve_series = retrieve_series.apply(lambda x: np.frombuffer(x, dtype=np.float32))\n",
    "index = retrieve_series.index\n",
    "index = list(map(lambda x: x.decode(), index))\n",
    "retrieve_series.index = index\n",
    "retrieve_df = retrieve_series.to_frame().reset_index()\n",
    "retrieve_df.columns = ['name_role', 'facial_features']\n",
    "retrieve_df[['Name', 'Role']] = retrieve_df['name_role'].apply(lambda x: x.split('@')).apply(pd.Series)\n",
    "retrieve_df"
   ],
   "metadata": {
    "collapsed": false,
    "ExecuteTime": {
     "end_time": "2023-11-13T12:29:00.226578Z",
     "start_time": "2023-11-13T12:29:00.209931Z"
    }
   },
   "id": "66ee682ce180679a"
  },
  {
   "cell_type": "markdown",
   "source": [
    "#### Step3: Get Real Time Prediction"
   ],
   "metadata": {
    "collapsed": false
   },
   "id": "3d37f3383b4d8347"
  },
  {
   "cell_type": "code",
   "execution_count": 14,
   "outputs": [
    {
     "data": {
      "text/plain": "-1"
     },
     "execution_count": 14,
     "metadata": {},
     "output_type": "execute_result"
    }
   ],
   "source": [
    "cap = cv2.VideoCapture(0)\n",
    "\n",
    "while True:\n",
    "    success, frame = cap.read()\n",
    "    if not success:\n",
    "        break\n",
    "    \n",
    "    result = face_rec.face_prediction(frame, retrieve_df, 'facial_features', None)\n",
    "    # cv2.imshow('Frame', frame)\n",
    "    cv2.imshow('Prediction', result)\n",
    "    \n",
    "    if cv2.waitKey(1) == 27: # if press esc button\n",
    "        break\n",
    "\n",
    "\n",
    "cv2.destroyAllWindows()\n",
    "cap.release()\n",
    "cv2.waitKey(1)"
   ],
   "metadata": {
    "collapsed": false,
    "ExecuteTime": {
     "end_time": "2023-11-13T12:37:31.396999Z",
     "start_time": "2023-11-13T12:36:25.082737Z"
    }
   },
   "id": "f980e627132d6f4f"
  },
  {
   "cell_type": "code",
   "execution_count": null,
   "outputs": [],
   "source": [],
   "metadata": {
    "collapsed": false
   },
   "id": "575d473356a118b7"
  }
 ],
 "metadata": {
  "kernelspec": {
   "display_name": "Python 3",
   "language": "python",
   "name": "python3"
  },
  "language_info": {
   "codemirror_mode": {
    "name": "ipython",
    "version": 2
   },
   "file_extension": ".py",
   "mimetype": "text/x-python",
   "name": "python",
   "nbconvert_exporter": "python",
   "pygments_lexer": "ipython2",
   "version": "2.7.6"
  }
 },
 "nbformat": 4,
 "nbformat_minor": 5
}
