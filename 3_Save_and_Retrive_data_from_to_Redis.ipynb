{
 "cells": [
  {
   "cell_type": "code",
   "execution_count": 10,
   "id": "initial_id",
   "metadata": {
    "collapsed": true,
    "ExecuteTime": {
     "end_time": "2023-11-14T08:33:09.540513Z",
     "start_time": "2023-11-14T08:33:09.531086Z"
    }
   },
   "outputs": [],
   "source": [
    "import numpy as np\n",
    "import pandas as pd\n",
    "import redis"
   ]
  },
  {
   "cell_type": "code",
   "execution_count": 11,
   "outputs": [],
   "source": [
    "# Connect to redis client\n",
    "\n",
    "hostname = 'localhost'\n",
    "port = 6379\n",
    "\n",
    "r = redis.StrictRedis(host=hostname, port=port)"
   ],
   "metadata": {
    "collapsed": false,
    "ExecuteTime": {
     "end_time": "2023-11-14T08:33:10.882546Z",
     "start_time": "2023-11-14T08:33:10.874066Z"
    }
   },
   "id": "9cdafc12477dcf43"
  },
  {
   "cell_type": "code",
   "execution_count": 7,
   "outputs": [
    {
     "data": {
      "text/plain": "True"
     },
     "execution_count": 7,
     "metadata": {},
     "output_type": "execute_result"
    }
   ],
   "source": [
    "r.ping()"
   ],
   "metadata": {
    "collapsed": false,
    "ExecuteTime": {
     "end_time": "2023-11-14T08:27:18.803722Z",
     "start_time": "2023-11-14T08:27:18.795090Z"
    }
   },
   "id": "9255cfdf830474df"
  },
  {
   "cell_type": "code",
   "execution_count": 8,
   "outputs": [
    {
     "data": {
      "text/plain": "[b'bull:AUTOMATION_QUEUE:completed',\n b'bull:AUTOMATION_QUEUE:2',\n b'bull:AUTOMATION_QUEUE:1',\n b'bull:AUTOMATION_QUEUE:id',\n b'attendance:logs',\n b'academy:register']"
     },
     "execution_count": 8,
     "metadata": {},
     "output_type": "execute_result"
    }
   ],
   "source": [
    "r.keys()"
   ],
   "metadata": {
    "collapsed": false,
    "ExecuteTime": {
     "end_time": "2023-11-14T08:27:19.410429Z",
     "start_time": "2023-11-14T08:27:19.405369Z"
    }
   },
   "id": "9bd7c28677645b3b"
  },
  {
   "cell_type": "code",
   "execution_count": 13,
   "outputs": [
    {
     "data": {
      "text/plain": "                 Name     Role  \\\n0      Angelina Jolie  Student   \n1        Barack Obama  Teacher   \n2         Chris Evans  Student   \n3      Morgan Freeman  Teacher   \n4  Scarlett Johansson  Student   \n\n                                     Facial_Features  \n0  [0.43222713, 1.074822, -0.12857957, -1.8332443...  \n1  [0.948603, -0.558349, 0.09484784, -1.2796344, ...  \n2  [0.72012275, -1.4683539, -0.77757514, -1.46026...  \n3  [0.4857939, -0.61931694, -0.4072946, 1.0686711...  \n4  [0.1913062, -0.48871604, -1.6904205, 0.4424578...  ",
      "text/html": "<div>\n<style scoped>\n    .dataframe tbody tr th:only-of-type {\n        vertical-align: middle;\n    }\n\n    .dataframe tbody tr th {\n        vertical-align: top;\n    }\n\n    .dataframe thead th {\n        text-align: right;\n    }\n</style>\n<table border=\"1\" class=\"dataframe\">\n  <thead>\n    <tr style=\"text-align: right;\">\n      <th></th>\n      <th>Name</th>\n      <th>Role</th>\n      <th>Facial_Features</th>\n    </tr>\n  </thead>\n  <tbody>\n    <tr>\n      <th>0</th>\n      <td>Angelina Jolie</td>\n      <td>Student</td>\n      <td>[0.43222713, 1.074822, -0.12857957, -1.8332443...</td>\n    </tr>\n    <tr>\n      <th>1</th>\n      <td>Barack Obama</td>\n      <td>Teacher</td>\n      <td>[0.948603, -0.558349, 0.09484784, -1.2796344, ...</td>\n    </tr>\n    <tr>\n      <th>2</th>\n      <td>Chris Evans</td>\n      <td>Student</td>\n      <td>[0.72012275, -1.4683539, -0.77757514, -1.46026...</td>\n    </tr>\n    <tr>\n      <th>3</th>\n      <td>Morgan Freeman</td>\n      <td>Teacher</td>\n      <td>[0.4857939, -0.61931694, -0.4072946, 1.0686711...</td>\n    </tr>\n    <tr>\n      <th>4</th>\n      <td>Scarlett Johansson</td>\n      <td>Student</td>\n      <td>[0.1913062, -0.48871604, -1.6904205, 0.4424578...</td>\n    </tr>\n  </tbody>\n</table>\n</div>"
     },
     "execution_count": 13,
     "metadata": {},
     "output_type": "execute_result"
    }
   ],
   "source": [
    "# Load numpy\n",
    "np_file = np.load('data_frame_students_teachers.npz', allow_pickle=True)\n",
    "x_values = np_file['arr_0']\n",
    "col_names = np_file['arr_1']\n",
    "\n",
    "df = pd.DataFrame(x_values, columns=col_names)\n",
    "df"
   ],
   "metadata": {
    "collapsed": false,
    "ExecuteTime": {
     "end_time": "2023-11-14T08:33:19.419078Z",
     "start_time": "2023-11-14T08:33:19.401857Z"
    }
   },
   "id": "d3253040e2fc4f55"
  },
  {
   "cell_type": "code",
   "execution_count": 15,
   "outputs": [
    {
     "data": {
      "text/plain": "                 Name     Role  \\\n0      Angelina Jolie  Student   \n1        Barack Obama  Teacher   \n2         Chris Evans  Student   \n3      Morgan Freeman  Teacher   \n4  Scarlett Johansson  Student   \n\n                                     Facial_Features  \\\n0  [0.43222713, 1.074822, -0.12857957, -1.8332443...   \n1  [0.948603, -0.558349, 0.09484784, -1.2796344, ...   \n2  [0.72012275, -1.4683539, -0.77757514, -1.46026...   \n3  [0.4857939, -0.61931694, -0.4072946, 1.0686711...   \n4  [0.1913062, -0.48871604, -1.6904205, 0.4424578...   \n\n                    name_role  \n0      Angelina Jolie@Student  \n1        Barack Obama@Teacher  \n2         Chris Evans@Student  \n3      Morgan Freeman@Teacher  \n4  Scarlett Johansson@Student  ",
      "text/html": "<div>\n<style scoped>\n    .dataframe tbody tr th:only-of-type {\n        vertical-align: middle;\n    }\n\n    .dataframe tbody tr th {\n        vertical-align: top;\n    }\n\n    .dataframe thead th {\n        text-align: right;\n    }\n</style>\n<table border=\"1\" class=\"dataframe\">\n  <thead>\n    <tr style=\"text-align: right;\">\n      <th></th>\n      <th>Name</th>\n      <th>Role</th>\n      <th>Facial_Features</th>\n      <th>name_role</th>\n    </tr>\n  </thead>\n  <tbody>\n    <tr>\n      <th>0</th>\n      <td>Angelina Jolie</td>\n      <td>Student</td>\n      <td>[0.43222713, 1.074822, -0.12857957, -1.8332443...</td>\n      <td>Angelina Jolie@Student</td>\n    </tr>\n    <tr>\n      <th>1</th>\n      <td>Barack Obama</td>\n      <td>Teacher</td>\n      <td>[0.948603, -0.558349, 0.09484784, -1.2796344, ...</td>\n      <td>Barack Obama@Teacher</td>\n    </tr>\n    <tr>\n      <th>2</th>\n      <td>Chris Evans</td>\n      <td>Student</td>\n      <td>[0.72012275, -1.4683539, -0.77757514, -1.46026...</td>\n      <td>Chris Evans@Student</td>\n    </tr>\n    <tr>\n      <th>3</th>\n      <td>Morgan Freeman</td>\n      <td>Teacher</td>\n      <td>[0.4857939, -0.61931694, -0.4072946, 1.0686711...</td>\n      <td>Morgan Freeman@Teacher</td>\n    </tr>\n    <tr>\n      <th>4</th>\n      <td>Scarlett Johansson</td>\n      <td>Student</td>\n      <td>[0.1913062, -0.48871604, -1.6904205, 0.4424578...</td>\n      <td>Scarlett Johansson@Student</td>\n    </tr>\n  </tbody>\n</table>\n</div>"
     },
     "execution_count": 15,
     "metadata": {},
     "output_type": "execute_result"
    }
   ],
   "source": [
    "df['name_role'] = df['Name'] + '@' + df['Role']\n",
    "df"
   ],
   "metadata": {
    "collapsed": false,
    "ExecuteTime": {
     "end_time": "2023-11-14T08:33:44.902007Z",
     "start_time": "2023-11-14T08:33:44.889715Z"
    }
   },
   "id": "fe447e421a336513"
  },
  {
   "cell_type": "code",
   "execution_count": 12,
   "outputs": [
    {
     "data": {
      "text/plain": "5"
     },
     "execution_count": 12,
     "metadata": {},
     "output_type": "execute_result"
    }
   ],
   "source": [
    "records = df[['name_role', 'Facial_Features']].to_dict(orient='records')\n",
    "len(records)"
   ],
   "metadata": {
    "collapsed": false,
    "ExecuteTime": {
     "end_time": "2023-11-13T08:13:38.215272Z",
     "start_time": "2023-11-13T08:13:38.209077Z"
    }
   },
   "id": "c3a179ca8c33c868"
  },
  {
   "cell_type": "markdown",
   "source": [
    "### Save Records to Redis\n",
    "- redis hashes\n",
    "- keyname = 'academy:register'"
   ],
   "metadata": {
    "collapsed": false
   },
   "id": "d0582563ac66cacb"
  },
  {
   "cell_type": "code",
   "execution_count": 16,
   "outputs": [],
   "source": [
    "vector = None\n",
    "for record in records:\n",
    "    name_role = record['name_role']\n",
    "    vector = record['Facial_Features']\n",
    "    \n",
    "    # convert numpy array into bytes\n",
    "    vector_bytes = vector.tobytes()\n",
    "    \n",
    "    # save data into redis\n",
    "    r.hset(name='academy:register', key=name_role, value=vector_bytes)"
   ],
   "metadata": {
    "collapsed": false,
    "ExecuteTime": {
     "end_time": "2023-11-13T08:18:08.244133Z",
     "start_time": "2023-11-13T08:18:08.229640Z"
    }
   },
   "id": "f8d0b38838724a64"
  },
  {
   "cell_type": "code",
   "execution_count": 19,
   "outputs": [
    {
     "data": {
      "text/plain": "dtype('float32')"
     },
     "execution_count": 19,
     "metadata": {},
     "output_type": "execute_result"
    }
   ],
   "source": [
    "vector.dtype"
   ],
   "metadata": {
    "collapsed": false,
    "ExecuteTime": {
     "end_time": "2023-11-13T08:47:38.617030Z",
     "start_time": "2023-11-13T08:47:38.609598Z"
    }
   },
   "id": "e2b0eb36a8ff9694"
  },
  {
   "cell_type": "markdown",
   "source": [
    "### Retrieve Records from Redis"
   ],
   "metadata": {
    "collapsed": false
   },
   "id": "28aabe53c1a06a5b"
  },
  {
   "cell_type": "code",
   "execution_count": 4,
   "outputs": [
    {
     "data": {
      "text/plain": "b'Chris Evans@Student'           b'\\xf7Y8?\\x05\\xf3\\xbb\\xbf*\\x0fG\\xbf\\x13\\xea\\xb...\nb'Barack Obama@Teacher'          b'\\xa5\\xd7r?\\xf6\\xef\\x0e\\xbf\\x96?\\xc2=\\x0f\\xcb...\nb'Angelina Jolie@Student'        b'\\xe0L\\xdd>\\xc4\\x93\\x89?]\\xaa\\x03\\xbe\\xc0\\xa7...\nb'Morgan Freeman@Teacher'        b'\\xfa\\xb9\\xf8>\\x8e\\x8b\\x1e\\xbf\\xeb\\x88\\xd0\\xb...\nb'Scarlett Johansson@Student'    b'\\xc6\\xe5C>\\xfd8\\xfa\\xbe\\xb3_\\xd8\\xbf\\xd6\\x89...\ndtype: object"
     },
     "execution_count": 4,
     "metadata": {},
     "output_type": "execute_result"
    }
   ],
   "source": [
    "retrieve_dict = r.hgetall(name='academy:register')\n",
    "retrieve_series = pd.Series(retrieve_dict)\n",
    "retrieve_series"
   ],
   "metadata": {
    "collapsed": false,
    "ExecuteTime": {
     "end_time": "2023-11-13T11:33:38.477219Z",
     "start_time": "2023-11-13T11:33:38.436296Z"
    }
   },
   "id": "5d6e65cd5bbeaefc"
  },
  {
   "cell_type": "code",
   "execution_count": 5,
   "outputs": [],
   "source": [
    "retrieve_series = retrieve_series.apply(lambda x: np.frombuffer(x, dtype=np.float32))\n",
    "index = retrieve_series.index\n",
    "index = list(map(lambda x: x.decode(), index))"
   ],
   "metadata": {
    "collapsed": false,
    "ExecuteTime": {
     "end_time": "2023-11-13T11:33:38.488668Z",
     "start_time": "2023-11-13T11:33:38.446054Z"
    }
   },
   "id": "96e88c2278d219af"
  },
  {
   "cell_type": "code",
   "execution_count": 6,
   "outputs": [],
   "source": [
    "retrieve_series.index = index"
   ],
   "metadata": {
    "collapsed": false,
    "ExecuteTime": {
     "end_time": "2023-11-13T11:33:38.488848Z",
     "start_time": "2023-11-13T11:33:38.450437Z"
    }
   },
   "id": "9ed8ed647b4ba1a3"
  },
  {
   "cell_type": "code",
   "execution_count": 7,
   "outputs": [
    {
     "data": {
      "text/plain": "                    name_role  \\\n0         Chris Evans@Student   \n1        Barack Obama@Teacher   \n2      Angelina Jolie@Student   \n3      Morgan Freeman@Teacher   \n4  Scarlett Johansson@Student   \n\n                                     facial_features  \n0  [0.72012275, -1.4683539, -0.77757514, -1.46026...  \n1  [0.948603, -0.558349, 0.09484784, -1.2796344, ...  \n2  [0.43222713, 1.074822, -0.12857957, -1.8332443...  \n3  [0.4857939, -0.61931694, -0.4072946, 1.0686711...  \n4  [0.1913062, -0.48871604, -1.6904205, 0.4424578...  ",
      "text/html": "<div>\n<style scoped>\n    .dataframe tbody tr th:only-of-type {\n        vertical-align: middle;\n    }\n\n    .dataframe tbody tr th {\n        vertical-align: top;\n    }\n\n    .dataframe thead th {\n        text-align: right;\n    }\n</style>\n<table border=\"1\" class=\"dataframe\">\n  <thead>\n    <tr style=\"text-align: right;\">\n      <th></th>\n      <th>name_role</th>\n      <th>facial_features</th>\n    </tr>\n  </thead>\n  <tbody>\n    <tr>\n      <th>0</th>\n      <td>Chris Evans@Student</td>\n      <td>[0.72012275, -1.4683539, -0.77757514, -1.46026...</td>\n    </tr>\n    <tr>\n      <th>1</th>\n      <td>Barack Obama@Teacher</td>\n      <td>[0.948603, -0.558349, 0.09484784, -1.2796344, ...</td>\n    </tr>\n    <tr>\n      <th>2</th>\n      <td>Angelina Jolie@Student</td>\n      <td>[0.43222713, 1.074822, -0.12857957, -1.8332443...</td>\n    </tr>\n    <tr>\n      <th>3</th>\n      <td>Morgan Freeman@Teacher</td>\n      <td>[0.4857939, -0.61931694, -0.4072946, 1.0686711...</td>\n    </tr>\n    <tr>\n      <th>4</th>\n      <td>Scarlett Johansson@Student</td>\n      <td>[0.1913062, -0.48871604, -1.6904205, 0.4424578...</td>\n    </tr>\n  </tbody>\n</table>\n</div>"
     },
     "execution_count": 7,
     "metadata": {},
     "output_type": "execute_result"
    }
   ],
   "source": [
    "retrieve_df = retrieve_series.to_frame().reset_index()\n",
    "retrieve_df.columns = ['name_role', 'facial_features']\n",
    "retrieve_df"
   ],
   "metadata": {
    "collapsed": false,
    "ExecuteTime": {
     "end_time": "2023-11-13T11:33:38.489664Z",
     "start_time": "2023-11-13T11:33:38.454271Z"
    }
   },
   "id": "122dfffbe9174f85"
  },
  {
   "cell_type": "markdown",
   "source": [
    "#### Registration Form"
   ],
   "metadata": {
    "collapsed": false
   },
   "id": "99c8b72a642d697d"
  },
  {
   "cell_type": "code",
   "execution_count": 8,
   "outputs": [],
   "source": [
    "import cv2\n",
    "from insightface.app import FaceAnalysis"
   ],
   "metadata": {
    "collapsed": false,
    "ExecuteTime": {
     "end_time": "2023-11-13T11:33:39.468705Z",
     "start_time": "2023-11-13T11:33:38.468475Z"
    }
   },
   "id": "8dd0cb8b8c50ee90"
  },
  {
   "cell_type": "code",
   "execution_count": 9,
   "outputs": [
    {
     "name": "stdout",
     "output_type": "stream",
     "text": [
      "Applied providers: ['CPUExecutionProvider'], with options: {'CPUExecutionProvider': {}}\n",
      "find model: insightface_model/models/buffalo_sc/det_500m.onnx detection [1, 3, '?', '?'] 127.5 128.0\n",
      "Applied providers: ['CPUExecutionProvider'], with options: {'CPUExecutionProvider': {}}\n",
      "find model: insightface_model/models/buffalo_sc/w600k_mbf.onnx recognition ['None', 3, 112, 112] 127.5 127.5\n",
      "set det-size: (640, 640)\n"
     ]
    }
   ],
   "source": [
    "# Configure\n",
    "faceapp = FaceAnalysis(name='buffalo_sc', root='insightface_model', providers=['CPUExecutionProvider'])\n",
    "faceapp.prepare(ctx_id=0, det_size=(640,640), det_thresh=0.5)"
   ],
   "metadata": {
    "collapsed": false,
    "ExecuteTime": {
     "end_time": "2023-11-13T11:33:39.525687Z",
     "start_time": "2023-11-13T11:33:39.469144Z"
    }
   },
   "id": "262e3306822de467"
  },
  {
   "cell_type": "markdown",
   "source": [
    "#### Step1: Collect Person And Role"
   ],
   "metadata": {
    "collapsed": false
   },
   "id": "5b144242ae6ea381"
  },
  {
   "cell_type": "code",
   "execution_count": 10,
   "outputs": [],
   "source": [
    "# Input\n",
    "person_name = input('Enter your name: ')\n",
    "trials = 3\n",
    "role = 'Student'\n",
    "for i in range(trials):\n",
    "    role = input(\"\"\"\n",
    "        Please choose\n",
    "        1. Student\n",
    "        2. Teacher\n",
    "        \n",
    "        Enter number either 1 or 2\n",
    "    \"\"\")\n",
    "    if role in ('1', '2'):\n",
    "        if role == '1':\n",
    "            role = 'Student'\n",
    "        else:\n",
    "            role = 'Teacher'\n",
    "        break\n",
    "    else:\n",
    "        print('Invalid entry, try again!')\n",
    "        if i == 3:\n",
    "            print('Exceed maximum trials')\n",
    "\n",
    "key = person_name +'@'+ role\n"
   ],
   "metadata": {
    "collapsed": false,
    "ExecuteTime": {
     "end_time": "2023-11-13T11:33:46.489373Z",
     "start_time": "2023-11-13T11:33:39.524882Z"
    }
   },
   "id": "a1fd8a6622b205a4"
  },
  {
   "cell_type": "code",
   "execution_count": 11,
   "outputs": [
    {
     "data": {
      "text/plain": "('Momo', 'Teacher')"
     },
     "execution_count": 11,
     "metadata": {},
     "output_type": "execute_result"
    }
   ],
   "source": [
    "person_name, role"
   ],
   "metadata": {
    "collapsed": false,
    "ExecuteTime": {
     "end_time": "2023-11-13T11:33:46.489824Z",
     "start_time": "2023-11-13T11:33:46.478367Z"
    }
   },
   "id": "89afa7d3911facbc"
  },
  {
   "cell_type": "markdown",
   "source": [
    "#### Step2: Collect embedding faces"
   ],
   "metadata": {
    "collapsed": false
   },
   "id": "1f6868015018d2a6"
  },
  {
   "cell_type": "code",
   "execution_count": 14,
   "outputs": [
    {
     "data": {
      "text/plain": "-1"
     },
     "execution_count": 14,
     "metadata": {},
     "output_type": "execute_result"
    }
   ],
   "source": [
    "cap = cv2.VideoCapture(0) # 0 default camera, 1 external camera\n",
    "face_embedding = []\n",
    "sample = 0\n",
    "\n",
    "while True:\n",
    "    success, frame = cap.read()\n",
    "    if not success:\n",
    "        print('Unable to read camera')\n",
    "        break\n",
    "    # get results from insightface model\n",
    "    results = faceapp.get(frame, max_num=1)\n",
    "    for res in results:\n",
    "        sample += 1\n",
    "        x1, y1, x2, y2 = res['bbox'].astype(int)\n",
    "        cv2.rectangle(frame, (x1, y1), (x2, y2), (0, 255, 0), 1)\n",
    "        \n",
    "        # facial features\n",
    "        embedding = res['embedding']\n",
    "        face_embedding.append(embedding)\n",
    "    \n",
    "    if sample >= 200:\n",
    "        break\n",
    "        \n",
    "    cv2.imshow('Frame', frame)\n",
    "    if cv2.waitKey(1) == ord('q'):\n",
    "        break\n",
    "\n",
    "cap.release()\n",
    "cv2.destroyAllWindows()\n",
    "cv2.waitKey(1)"
   ],
   "metadata": {
    "collapsed": false,
    "ExecuteTime": {
     "end_time": "2023-11-13T11:44:29.797347Z",
     "start_time": "2023-11-13T11:44:14.228661Z"
    }
   },
   "id": "2d984cda48ca7137"
  },
  {
   "cell_type": "code",
   "execution_count": 15,
   "outputs": [
    {
     "data": {
      "text/plain": "216"
     },
     "execution_count": 15,
     "metadata": {},
     "output_type": "execute_result"
    }
   ],
   "source": [
    "len(face_embedding)"
   ],
   "metadata": {
    "collapsed": false,
    "ExecuteTime": {
     "end_time": "2023-11-13T11:44:46.860Z",
     "start_time": "2023-11-13T11:44:46.844586Z"
    }
   },
   "id": "f4cb082bc6f536ce"
  },
  {
   "cell_type": "markdown",
   "source": [
    "#### Step3: Optimize Data & Save in Redis"
   ],
   "metadata": {
    "collapsed": false
   },
   "id": "6b70878d7aedcd8a"
  },
  {
   "cell_type": "code",
   "execution_count": 17,
   "outputs": [
    {
     "data": {
      "text/plain": "(512,)"
     },
     "execution_count": 17,
     "metadata": {},
     "output_type": "execute_result"
    }
   ],
   "source": [
    "x_mean = np.asarray(face_embedding).mean(axis=0)\n",
    "x_mean.shape"
   ],
   "metadata": {
    "collapsed": false,
    "ExecuteTime": {
     "end_time": "2023-11-13T11:49:49.373296Z",
     "start_time": "2023-11-13T11:49:49.363853Z"
    }
   },
   "id": "5a7dafa67c0f546d"
  },
  {
   "cell_type": "code",
   "execution_count": 18,
   "outputs": [
    {
     "data": {
      "text/plain": "b'%L\\xa2\\xbe3\\x17\\xa7\\xbfH\\\\4\\xbfb\\x05\\xba\\xbe\\x17\\xdal\\xbfK\\xa4??\\xe6\\xcc\\xf6<\\xc9w\\xb2\\xbf!\\xdf[\\xbe\\x17\\x99\\xc5>\\x95Q\\x06?&G\\x08=~\\x9dw?\\xb5\\xb3&?\\xef\\x8dU\\xbem0\\xeb\\xbd\\x17OV=\\xe1\\xd4\\x0b?\\xb1\\x15\\x82\\xbf\\x01g\\xd5\\xbe\\xb9q\\x9b?5@5\\xbf{M5\\xbeW\\xf8\\xb8\\xbf\\x08\\t\\xb9\\xbf\\xcbd\\xf4>\\xf4S\\xaf?\\xcb\\xcf\\x8c\\xbfO\\xae\\x86\\xbe\\x1a\\xd2\\xfb>\\xe4\\x13>?\\xdaOS\\xbe8\\xee\\x8a\\xbc\\xd1x\\\\?R\\x19\\xc2=N&\\xc5\\xbc\\x9f)\\x0c@\\x13\\xb29?\\xac{\\xb8\\xbe\\xbcM\\xe8\\xbe\\x9dT\\x96\\xbfq\\\\\\x0f>\\xb91I\\xbc\\xf5i\\xa0?\\x8dy\\xd3>\\x00\\x06\\x8f:?9H\\xbek\\xfd\\x9f\\xbf\\x80\\xdf\\x8c=\\x9e\\xca\\xad>\\x14?\\xc0\\xbf\\xd7\\xf3y>\\xf0*\\t\\xc0\\t\\xb5\\xe2\\xbe\\x1e\\xaaA\\xbf.\\xec\\x11?\\n\\xb4\\x07\\xc0\\x9f\\x90\\xb4=\\xd6<\\x12\\xbfzge\\xbeT6\\x92=\\xc0\\x17\\xe8>\\x98\\x05v?g(%?eq\\xb9?W \\xc8\\xbf\\xa1%\\x87?\\x9c\\n\\x9c\\xbf\\xce\\xcc\\x90\\xbf\\xe9\\xd9\\x90>\\x86i=?uS(\\xbf\\\\\\xa5\\x98?\\xec\\x97\\xb3\\xbf\\x9cX\\x83\\xbe\\x9b\\x84\\xc2\\xbfE6\\t?% \\x8b?\\xe4s\\x1e\\xbf\\x0c\\xa9\\xfb\\xbd\\xd9%S\\xbf\\xd3\\xf4\\xdd\\xbe\\x08\\x8a??u\\\\\\xdf\\xbe\\x0e8;\\xbf\\xe0\\x81\\xc1\\xbfp\\xf2\\x91\\xbfj\\xf4\\x81\\xbf|\\xd6X\\xbf\\x11a\\xbc?\\xb5\\x90.\\xbf\\xd4y\\xeb?\\xd96\\x8b\\xbe\\x88\\xe9\\xa2\\xbf\\xc8\\xbb\\xc2\\xbe+#\\xff>\\x1eLh?\\x8f\\x08\\xa5<\\t2\\xa9?\\xc0$\\x02>@\\xfed\\xbf\\xdb\\x11\\x05\\xc0\\x15\\x16<\\xbe\\xf5\\xc8\\xb1\\xbe^O2\\xbd\\xab\\x1e\\\\\\xbf\\x13\\xd8\\xef>\\xe4\\x80\\xc4>\\x07\\xba\\x0b\\xbe\\xd8pE\\xbf\\xado=?\\x91\\xc6\\x86\\xbfXUM?\\xe5\\x81\\xcb\\xbe\\xe0+\\x0e?\\x80\\x11.\\xbf\\x15\\x95\\xf4\\xbe\\xac\\xa92\\xbe\\xe4\\xc6N\\xbb\\xe0a_\\xbf\\xd3{\\xb5\\xbe\\xce\\x9c\\xa8\\xbb\\xbb\\x1e\\x80?\\x0b|\\xc6\\xbe\\x1e\\xfe\\x9e?,\\x92.\\xbf\\x0b\\xe7v\\xbf8\\xe6L>\\x1f<\\x87\\xbe^\\x8ar>\\xffJ\\xba\\xbe\\\\\\x15\\xe3?\\xa8\\xb4\\xbe?\\xbf\\x17)\\xbd\\xa8\\x87\\xd4\\xbeoW\\xd7>\\x19lh?)\\xf6\\xec>\\xc2,\\xf4\\xbe\\x0f\\xe9Q?%8\\x14\\xbf\\xfe\\xe1\\x7f?\\x0e*\\xff\\xbe\\xa6\\xa3\\xa8=S\\xfc\\x9f\\xbd\\x88\\x9eY\\xbe\\xed\\xea-?\\xac\\xf6\\x03\\xbfl\\x9a\\x9a\\xbfn\\x9b\\x9b>\\xc5_\\xd9>\\x05}\\x8d\\xbet0\\xb7>\\x92\\xc7\\x19\\xbf\\xb8\\x02\\xd8\\xbe!3h\\xbe\\x0c)\\xaf>\\xc9o\\x88\\xbf2\\xc0\\xb8<\\xcc\\xc0z>\\xfa\\x03\\'\\xbf\\xff^\\xc7>\\rT[\\xbfg\\xb0\\xf1\\xbf\\xf9\\xa9V?\\x95\\xfd\\xe7\\xbe1\\x0c\\xa1\\xbf\\x85\\x9c\\xa9\\xbe_\\xf2\\xa5;s1\\xbe\\xbf\\xf8e\\x8a\\xbf5=T\\xbf\\xc46\\x99=os\\xd5\\xbeWw/\\xbbW+\\xd2?\\xfe,\\xf3=\\xdf!\\x93\\xbe\\xe6\\x98\\xe2?&\\xec\\x1e@\\xeb$u\\xbe-\\xeb\\x8c\\xbfz\\xdd\\xf8>\\xa2\\xe5%\\xbe\\x8b\\x04L?Q\\xe4\\xa2>+G!?\\xde\\xbe\\x9b?\\xe34\\x88\\xbf\\xed8p\\xbf\\x02;\\x87><`4\\xc0\\x1c\\x99\\xad=\\xe1-\\x8a\\xbf\\xa9\\xa4\\x00?\\x87\\rF>S\\x08\\x8f\\xbe\\x14z\\xf7\\xbc\\xa3\\xb2\\x85?\\xaf \\x98\\xbf\\x7f\\xeb\\xf5>\\xe8\\xf8q?W\\x94M?i\\xee\\t\\xbe\\x9c\\x8b\\x12\\xbc\\x0b];?\\x86\\x0f\\xa5>t\\x15\\xef=\\xec\\xc1\\x83\\xbf\\xfcp\\r?)W\\x1f?/Z?>\\xd5\\x11\\xf2?$\\xd5Y\\xbf\\xb8\\xc0\\xff\\xbe\\xe1\\xe6\\x9f\\xbf\\r\\x1b\\xdc\\xbe\\x9e\\xac&>\\x08}\\xa4\\xbfD\\x15\\xdb>\\x0f\\xf0r\\xbf\\xc0\\x90\\xc5?H?\\xa1?\\xd7_\\xe9\\xbe4\\xcc0\\xc0\\xb9!\\x19\\xbe\\x10`\\x03?\\x89\\xbfO\\xbffK\\xa4>\\x04\\x92\\x00>z2\\x99?\\xabeO=W\\xfe\\x94\\xbd\\xe9\\x00{?a\\x8d\\xeb\\xbeo\\xc9-?2Uw?\\xe1uJ\\xbf\\xcdZ\\xd3\\xbe\\x9e\\xa2\\x82?8`\\x02?\\xccs\\xcd?\\xf7\\xc6*\\xbe\\xdc \\xdf>\\xb5Ak\\xbf\\xf4\\x99\\x9f\\xbf\\x88\\xc4A?\\xbe\\x83\\xe2\\xbe\\xe1]\\t\\xc0\\xb1| >\\x84\\rA\\xbe\\xcdg6?U]8\\xbeZ\\xc8\\xde>\\xc4\\xd5v\\xbe\\xac%\\xe4\\xbdH\\x185\\xbf\\xb1\\xb5\\x8c>\\\\\\t\\xda\\xbd\\x0e\\xb9>>\\x9b(\\x9c\\xbfN\\xfc\\xe6?\\xb8\\xd6\\xeb>\\xe7\\r3?o\\x8a\\x92\\xbf\\xa9\\xc0k?\\x18.)>\\xa2\\xa3\\xbb\\xbf\\xd7\\xb6\\x16\\xbfSZ3\\xbfD\\x95\\t\\xbe\\xef@\\x1e\\xbe\\xb2*\\x8b\\xbf\\xb9\\xd3\\xa4\\xbc\\xbf\\xd8\\xab\\xbfWY$\\xbf\\xf5\\x04{?)\\xaf\\x8f?\\x93\\x0b:\\xbfU/a?\\x0cw\\xba\\xbe{O\\xd8\\xbd\\x19\\x92X\\xbdA\\xf0x\\xbf\\x8fM\\x04\\xbf\\x91u\\x82\\xbfw^8=8\\x9bw\\xbe\\x16\\xa7\\x92?\\xf77\\x98\\xbf\\xbc\\x1e%?\\xa9\\x1d7\\xbf\\x97^f>\\xdc\\xe7\\xbd>\\xe6\\xbe\\xa7?\\x8e \\xfb>EX\\x01?\\xe8\\xb3\\xd1\\xbe\\xe4\\x17\\x9c?Zjk?\\x1f_g>\\x7f\\xc2\\x0b\\xc0\\x88G\\xd6\\xbe\\x8e\\x14\\xe8>z\\xe5g\\xbf\\xc9\\xa9i\\xbfZ\\x1e\\x10>\\'\\x88\\xa6\\xbf4\\xf7,?B\\xda!?\\xd3\\x960?\\xd9j\\xaf>\\xa8?\\x91?\\xb7\\x8a{?I\\x8f\\xf4=_E\\x8a\\xbfu\\xb0\\x85\\xbd\\xcd\\x95\\xf8\\xbe\\xa4I\\x1a>\\x92\\xd0y\\xbf\\x07r\\x95\\xbf>\\xf3\\xb2>\\xc3L\\x8a\\xbe\\xfc\\x9d\\xd9\\xbd\\xbep\\x8d?Uw\\xa7=2w\\xd5\\xbce\\xd3\\xbb\\xbfs\\x7f\\x9f\\xbf\\x8c\\xcf\\xc5\\xbc\\xf5`\\xd3\\xbdFO\\xa4?\\x02{L\\xbfR]\\xac?\\xb4j\\x1f\\xbf5\\x11\\xa8?K\\x8b\\x07\\xbf\\xb1C\\x8f\\xbf\\x0b\\x14?>\\xa2z\\x8e?\\x92\\xfbu\\xbf8\\x0b\\xb0;\\x0b\\x98\\xb6\\xbe\\xc4C\\x97\\xbf\\xce\\x17p\\xbd\\xc0\\xb1{\\xbe\\x11?\\x06\\xbe\\xe8#\\xfa>%\\xf8\\x95>\\xf88\\n@\\xf8\\xc8\\x84>\\xaf\\xa0\\xcc?\\xc5\\x99;?\\xb3\\x98\\x1a\\xbf\\xca\\x10\\x12?\\xe2\\xde,\\xbf\\xf2\\xd2\\xb6\\xbf\\xf5\\xf9\\x86?\\xeb\\xe0\\x88\\xbf_/\\xd1\\xbd\\x9a\\xce\\xa7>Q:;?\\xffSL\\xbf\\x05\\x0e\\x7f\\xbeO\\xcb/\\xbe<n9?S\\x0f\\xc4\\xbd\\xaf\\xc5w?q\\x01\\xd6\\xbd\\xbc&\\xb6?S\\xcb\\xcd>\\x85ub?\\xde \\xb7>N\\x0bW?FmU\\xbf\\xb1\\xa2U\\xbf\\x81\\xc5\\x96\\xbe\\x07\\xed\\xb8\\xbfG\\xdc?\\xbf\\x9b\\xd1}\\xbe\\x0b\\xbcp\\xbf\\x9bM\\xa0?\\x07\\x0f??\\x93\\x83L?\\xae\\xa7\\x8c?!\\xb8\\xf4<\\x1ac\\xbe\\xbe\\xc0\\xac\\x17\\xbfU}\\x07\\xbdi\\x96\\x1c\\xbfD\\xc6\\xa1\\xbe\\x04s\\xd1?79\\x11\\xbf\\x91\\x13B\\xbe;\\x16\\xdd\\xbe\\x1a\\x8c/?!\\xa2\\xe3>\\x8c\\x91\\xb7\\xbf\\xe5,5\\xbek]6?=t\\x8d\\xbe[\\xf6\\x94\\xbd\\xec/\\x8a\\xbfD\\xc3\\x8d\\xbe\\xc7\\xe2\\x1c=\\x81\\xd0\\x07?\\x80e#\\xbf\\x1fW\\x93\\xbfD&\\x83?\\xfcn\\x84>\\t\\x9e\\xa7? \\xf9H\\xbe<\\r,\\xbd\\xf4\\x7f8?r\\xaa(>\\x01\\x83\\x87=\\x91\\xb08\\xbfh3\\xaf?|#\\xa2?\\xc8iZ?%\\xaf\\xa6\\xbf\\xb9~\\xfd>%&\\xa1?\\xb6#\\x00?\\xff\\x1c\\t?1\\x01\"\\xbei\\x8b\\x06\\xbf,\\xe3\"?\\x06>\\x9a?A\\\\?\\xbfh\\x1f\\x99?\\x07h\\xbf\\xbf>\\x88r\\xbe\\xd8+d\\xbf\\x93Zw?\\xf2F\\x8d\\xbeF~$?\\xc9\\xb7\\x0e@\\xcb\\x7f\\x14\\xbf?\\xb9\\x1f?\\x9cy\\x10?)a\\x93\\xbf\\xfb\\x17\\xaa?h\\xc8\\x17?\\xf7\\xf6\\xd0>>\\xc6j\\xbcOF\\x8b\\xbf\\xc1)\\xac\\xbfm\\xcdC?:\\xed{?\\xfe\\xae\\x89>\\xccg\\xbe\\xbfx?\\xe6?\\x14\\xaf#\\xbeu4\\x8c\\xbd\\xa9\\xe9\\xc6\\xbe\\xa5\\xee\\xa0\\xbf\\x7fb\\xa1\\xbe\\x8a\\xf7\\x82?\\xde\\xd7\\xbf\\xbc\\xef\\xc6\\xd8>\\xec\\xb79\\xbf\\x19\\xb4\\xb6=O.n\\xbf\\xc7C\\xb6>d\\x07\\x91?K/\\x9e\\xbf?\\x07\"\\xbf\\xec\\x132>\\x13\\xb3\\xba\\xbf\\x11=\\xfa>&C\\x93=WjT?\\x8c\\xca\\xc1\\xbe\\x93\\x1d\\xda?\\x04g\\xcd=\\xb3\\x05\\xb5\\xbe\\x04n=?\\tYW?\\xdf\\xeet\\xbfT\\xbb\\x0f\\xbf\\x93\\x92\\x0b?HEN>\\xae\\xb5\\x91\\xbeU\\x7f\\xda>!|S\\xbeI\\x88\\x0e?\\x1f\\xe7\\x86?\\x89\\xdb\\xdf\\xbe\\xd2\\x81A?\\x0b\\x84\\xb8\\xbf\\x19\\xfa\\xfb\\xbe\\xb8V\\xef>lZ\\x9e\\xbd%>!>\\xa1)\\xa6>Oo\\xcc\\xbeU5\\x05\\xbf\\x82\\xb9y\\xbe\\xb8\\x15\\x1f=~\\xc7\\xe4\\xbf\\x002x<x\\xe7\\x98\\xbd\\xc5\\xf3\\xc6\\xbf\\x9cA\\x00?\\xbf\\xe8S\\xbf\\x99\\x16\\x9e\\xbf7\\xd7\\xda=\\xc1Y9?E\\xeaN\\xbdZ\\xcfP>9h\\xab>'"
     },
     "execution_count": 18,
     "metadata": {},
     "output_type": "execute_result"
    }
   ],
   "source": [
    "# covert into bytes\n",
    "x_mean_bytes = x_mean.tobytes()\n",
    "x_mean_bytes"
   ],
   "metadata": {
    "collapsed": false,
    "ExecuteTime": {
     "end_time": "2023-11-13T11:50:38.741539Z",
     "start_time": "2023-11-13T11:50:38.727476Z"
    }
   },
   "id": "e4afbb9b243a43ea"
  },
  {
   "cell_type": "code",
   "execution_count": 19,
   "outputs": [
    {
     "data": {
      "text/plain": "1"
     },
     "execution_count": 19,
     "metadata": {},
     "output_type": "execute_result"
    }
   ],
   "source": [
    "# save key and facial bytes\n",
    "r.hset(name='academy:register',key=key,value=x_mean_bytes)\n"
   ],
   "metadata": {
    "collapsed": false,
    "ExecuteTime": {
     "end_time": "2023-11-13T11:52:06.739793Z",
     "start_time": "2023-11-13T11:52:06.710139Z"
    }
   },
   "id": "31cc6052c503dd73"
  },
  {
   "cell_type": "code",
   "execution_count": null,
   "outputs": [],
   "source": [],
   "metadata": {
    "collapsed": false
   },
   "id": "2d831a641bdf811"
  }
 ],
 "metadata": {
  "kernelspec": {
   "display_name": "Python 3",
   "language": "python",
   "name": "python3"
  },
  "language_info": {
   "codemirror_mode": {
    "name": "ipython",
    "version": 2
   },
   "file_extension": ".py",
   "mimetype": "text/x-python",
   "name": "python",
   "nbconvert_exporter": "python",
   "pygments_lexer": "ipython2",
   "version": "2.7.6"
  }
 },
 "nbformat": 4,
 "nbformat_minor": 5
}
